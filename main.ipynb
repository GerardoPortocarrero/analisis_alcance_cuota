{
 "cells": [
  {
   "cell_type": "code",
   "execution_count": 3,
   "id": "87c0d688",
   "metadata": {},
   "outputs": [],
   "source": [
    "import os\n",
    "import numpy as np\n",
    "import matplotlib.pyplot as plt\n",
    "import matplotlib.dates as mdates\n",
    "from datetime import datetime\n",
    "from pathlib import Path\n",
    "import importlib\n",
    "import time\n",
    "import polars as pl\n",
    "import warnings\n",
    "warnings.filterwarnings(\"ignore\")  # Oculta todos los warnings\n",
    "\n",
    "# Mis modulos"
   ]
  },
  {
   "cell_type": "code",
   "execution_count": 4,
   "id": "c00d7ffd",
   "metadata": {},
   "outputs": [
    {
     "name": "stdout",
     "output_type": "stream",
     "text": [
      "\n",
      "    _                _ _     _          _    _                          \n",
      "   / \\   _ __   __ _| (_)___(_)___     / \\  | | ___ __ _ _ __   ___ ___ \n",
      "  / _ \\ | '_ \\ / _` | | / __| / __|   / _ \\ | |/ __/ _` | '_ \\ / __/ _ \\\n",
      " / ___ \\| | | | (_| | | \\__ \\ \\__ \\  / ___ \\| | (_| (_| | | | | (_|  __/\n",
      "/_/   \\_\\_| |_|\\__,_|_|_|___/_|___/ /_/   \\_\\_|\\___\\__,_|_| |_|\\___\\___|\n",
      "\n",
      "     _         ____            _        \n",
      "  __| | ___   / ___|   _  ___ | |_ __ _ \n",
      " / _` |/ _ \\ | |  | | | |/ _ \\| __/ _` |\n",
      "| (_| |  __/ | |__| |_| | (_) | || (_| |\n",
      " \\__,_|\\___|  \\____\\__,_|\\___/ \\__\\__,_|\n",
      "\n",
      "        💥 GENERADOR DE ANALISIS AUTOMATICO DE ALCANCE DE CUOTA 💥\n",
      "\n",
      "\n"
     ]
    }
   ],
   "source": [
    "# import pyfiglet\n",
    "# print(pyfiglet.figlet_format(\"Analisis Alcance de Cuota\"))\n",
    "\n",
    "banner = r\"\"\"\n",
    "    _                _ _     _          _    _                          \n",
    "   / \\   _ __   __ _| (_)___(_)___     / \\  | | ___ __ _ _ __   ___ ___ \n",
    "  / _ \\ | '_ \\ / _` | | / __| / __|   / _ \\ | |/ __/ _` | '_ \\ / __/ _ \\\n",
    " / ___ \\| | | | (_| | | \\__ \\ \\__ \\  / ___ \\| | (_| (_| | | | | (_|  __/\n",
    "/_/   \\_\\_| |_|\\__,_|_|_|___/_|___/ /_/   \\_\\_|\\___\\__,_|_| |_|\\___\\___|\n",
    "                                                                        \n",
    "     _         ____            _        \n",
    "  __| | ___   / ___|   _  ___ | |_ __ _ \n",
    " / _` |/ _ \\ | |  | | | |/ _ \\| __/ _` |\n",
    "| (_| |  __/ | |__| |_| | (_) | || (_| |\n",
    " \\__,_|\\___|  \\____\\__,_|\\___/ \\__\\__,_|\n",
    "\n",
    "        💥 GENERADOR DE ANALISIS AUTOMATICO DE ALCANCE DE CUOTA 💥\n",
    "\"\"\"\n",
    "\n",
    "print(banner, end='\\n\\n')\n",
    "time.sleep(1)"
   ]
  },
  {
   "cell_type": "markdown",
   "id": "a31d4d63",
   "metadata": {},
   "source": [
    "### Configuracion"
   ]
  },
  {
   "cell_type": "code",
   "execution_count": null,
   "id": "913060a8",
   "metadata": {},
   "outputs": [],
   "source": [
    "# Constantes usadas en el notebook\n",
    "TODAY = datetime.today().strftime('%d-%m-%Y')\n",
    "MAPI = \"MAPI\" # Messaging Application Programming Interface\n",
    "DOT = \".\"\n",
    "OUTLOOK = \"Outlook\"\n",
    "APPLICATION = \"Application\"\n",
    "ROOT_ADDRESS = r'C:\\Informacion\\Alcance de Cuota' # Direcccion de carpeta raiz\n",
    "PROJECT_ADDRESS = r\"C:\\Informacion\\Alcance de Cuota\\analisis_alcance_cuota\"\n",
    "FILE = os.path.join(PROJECT_ADDRESS, 'ALCANCE DE CUOTA 2025.xlsx') # Nombre del archivo de Excel\n",
    "FILE_SHEET = 'AC TAB' # Nombre de la hoja de Excel\n",
    "\n",
    "MAIL_TO = ''\n",
    "MAIL_CC = 'contabilidad@ayacda.com;adm@ayacda.com;gcamana@ayacda.com;rgallegos@aclogistica.pe;gportocarrerob@unsa.edu.pe;'\n",
    "\n",
    "TEST_MAIL_TO = \"ainformacion@ayacda.com;gportocarrerob@unsa.edu.pe;\"\n",
    "TEST_MAIL_CC = \";\"\n",
    "\n",
    "# Diccionarios\n",
    "outlook_folder_codes = {\n",
    "    0: 'Calendario',\n",
    "    1: 'Contactos',\n",
    "    2: 'Borradores',\n",
    "    3: 'Diario / Jornal',\n",
    "    4: 'Notas',\n",
    "    5: 'Tareas',\n",
    "    6: 'Bandeja de entrada',\n",
    "    7: 'Bandeja de salida',\n",
    "    8: 'Elementos enviados',\n",
    "    9: 'Elementos eliminados',\n",
    "    10: 'Bandeja de correo del servidor',\n",
    "    11: 'Conflictos',\n",
    "    12: 'Elementos de sincronizacion local',\n",
    "    13: 'Elementos de sincronizacion (Envio)',\n",
    "    14: 'Elementos de sincronización (Recibo)',\n",
    "    15: 'Elementos de sincronización completa',\n",
    "    16: 'Diario de formularios',\n",
    "    17: 'Carpeta de búsqueda',\n",
    "    18: 'Bandeja para reglas cliente',\n",
    "    19: 'Carpeta de sugerencias de correo',\n",
    "}\n",
    "outlook_object_types = {\n",
    "    \"AppointmentItem\": 26,\n",
    "    \"MailItem\": 43,\n",
    "    \"TaskItem\": 46,\n",
    "    \"ContactItem\": 48,\n",
    "    \"MeetingItem\": 53,\n",
    "}\n",
    "months = {\n",
    "    1: 'Enero', 2: 'Febrero', 3: 'Marzo', 4: 'Abril', 5: 'Mayo', 6: 'Junio',\n",
    "    7: 'Julio', 8: 'Agosto', 9: 'Septiembre', 10: 'Octubre', \n",
    "    11: 'Noviembre', 12: 'Diciembre'\n",
    "}\n",
    "\n",
    "# Listas\n",
    "locaciones = ['06 AYA EL PEDREGAL', '38 AYA ATICO', '40 AYA CHALA', '88 AYA CAMANA']"
   ]
  }
 ],
 "metadata": {
  "kernelspec": {
   "display_name": "Python 3",
   "language": "python",
   "name": "python3"
  },
  "language_info": {
   "codemirror_mode": {
    "name": "ipython",
    "version": 3
   },
   "file_extension": ".py",
   "mimetype": "text/x-python",
   "name": "python",
   "nbconvert_exporter": "python",
   "pygments_lexer": "ipython3",
   "version": "3.13.3"
  }
 },
 "nbformat": 4,
 "nbformat_minor": 5
}
